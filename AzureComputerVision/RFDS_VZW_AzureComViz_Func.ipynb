{
 "cells": [
  {
   "cell_type": "markdown",
   "id": "0fe4fbd5",
   "metadata": {},
   "source": [
    "### Verizon RFDS PDF Ripping\n",
    "#### Azure Computer Vision Trial\n",
    "Test using Azure Computer Vision OCR APIs to process verizon RF Data Sheets.  The goal is to identify the carrier (Verizon), Tower Longitude, Tower Latitude, and ENodeB ID.\n",
    "\n",
    "##### Libraries Installed\n",
    "conda install -c conda-forge azure-common\n",
    "\n",
    "pip install azure-cognitiveservices-vision-computervision\n",
    "\n",
    "conda install pillow\n",
    "\n",
    "pip install azure-storage-blob\n",
    "\n",
    "pip install azure-mgmt-storage\n",
    "\n",
    "##### Helpful Links\n",
    "https://github.com/Azure-Samples/cognitive-services-quickstart-code/tree/master/python/ComputerVision\n",
    "\n",
    "https://docs.microsoft.com/en-us/azure/cognitive-services/computer-vision/quickstarts-sdk/client-library?tabs=visual-studio&pivots=programming-language-python\n",
    "\n",
    "https://docs.microsoft.com/en-us/python/api/overview/azure/storage-blob-readme?view=azure-python\n",
    "\n",
    "https://docs.microsoft.com/en-us/azure/cognitive-services/computer-vision/vision-api-how-to-topics/call-read-api\n",
    "\n",
    "https://github.com/Azure-Samples/cognitive-services-quickstart-code/blob/master/python/ComputerVision/ExtractTextPDF.py"
   ]
  },
  {
   "cell_type": "code",
   "execution_count": 1,
   "id": "fb2c6fb5",
   "metadata": {},
   "outputs": [],
   "source": [
    "### Import Libraries\n",
    "from azure.cognitiveservices.vision.computervision import ComputerVisionClient\n",
    "from azure.cognitiveservices.vision.computervision.models import OperationStatusCodes\n",
    "from azure.cognitiveservices.vision.computervision.models import VisualFeatureTypes\n",
    "from msrest.authentication import CognitiveServicesCredentials\n",
    "from azure.storage.blob import ContainerClient, BlobClient\n",
    "\n",
    "import pandas as pd\n",
    "#from array import array\n",
    "#import os\n",
    "#from PIL import Image\n",
    "import sys\n",
    "import time"
   ]
  },
  {
   "cell_type": "markdown",
   "id": "4aae4482",
   "metadata": {},
   "source": [
    "#### Variables"
   ]
  },
  {
   "cell_type": "code",
   "execution_count": 11,
   "id": "3fab6fda",
   "metadata": {},
   "outputs": [],
   "source": [
    "## Azure Computer Vision Keys\n",
    "subscription_key = \"41e484a5197d4ca0b79af7023e5c1fdd\"\n",
    "endpoint = \"https://cci-ds-compvis-nonprod.cognitiveservices.azure.com/\"\n",
    "region = \"eastus2\"\n",
    "\n",
    "## Cotainer Keys\n",
    "cn = \"cci-ds-rfds-vzw\"\n",
    "cs = \"DefaultEndpointsProtocol=https;AccountName=storageaccountccids99ed;AccountKey=nSK3rxAVPFkhJfV6qfJqdScvHSv9YRKGpGkBPSWgYO4fgUlsk9E1WXxOU+07+KRn7BdLSAvFp6N5CNLSMqZN5Q==;EndpointSuffix=core.windows.net\"\n",
    "\n",
    "# Read API Local Function Variables\n",
    "prev_line = \"\"\n",
    "lat = \"\"\n",
    "long = \"\"\n",
    "enodeb = \"\"\n",
    "carrier = \"\"\n",
    "rfds_df = pd.DataFrame(columns= ['Carrier', 'Latitude', 'Longitude', 'EnodeB', 'RFDS_Name', 'blob_url'])\n",
    "append_sw = 0"
   ]
  },
  {
   "cell_type": "markdown",
   "id": "d35e4d48",
   "metadata": {},
   "source": [
    "##### Authenticate to Azure Computer Vision Clients"
   ]
  },
  {
   "cell_type": "code",
   "execution_count": 3,
   "id": "27c3530a",
   "metadata": {},
   "outputs": [
    {
     "name": "stdout",
     "output_type": "stream",
     "text": [
      "3.2\n",
      "Container connection successful\n"
     ]
    }
   ],
   "source": [
    "### Authenticate the computer vision client\n",
    "try:\n",
    "    computervision_client = ComputerVisionClient(endpoint, CognitiveServicesCredentials(subscription_key))\n",
    "    print(\"Computer Vision Client Connection Successful\")\n",
    "    print(computervision_client.api_version)\n",
    "except Exception as e:\n",
    "    print(\"Computer Vision Client Authentication Failed: \", e)\n",
    "\n",
    "### Authenticate to Container Client\n",
    "try:\n",
    "    container = ContainerClient.from_connection_string(conn_str=cs, container_name=cn)\n",
    "    print(\"Container connection successful\")\n",
    "except Exception as e:\n",
    "    print(\"Container connection failed: \", e)"
   ]
  },
  {
   "cell_type": "markdown",
   "id": "632f4df5",
   "metadata": {},
   "source": [
    "##### Extract Text from RFDS PDFs with the Azure Computer Vision Read API\n",
    "1. List all blobs in container\n",
    "2. Get blob metadata\n",
    "3. Call the Read API\n",
    "4. Collect and parse results\n",
    "5. Write key attributes to dataframe"
   ]
  },
  {
   "cell_type": "code",
   "execution_count": 12,
   "id": "e74b5e6d",
   "metadata": {},
   "outputs": [
    {
     "name": "stdout",
     "output_type": "stream",
     "text": [
      "REDLINES_880315_AIR_TRAFFIC_CONTROL_Verizon_LTE_PCD_rev_A_08.01.2019.pdf\n",
      "\n",
      "Waiting for Computer Vision Read API to complete text extraction...\n",
      "Carrier = Verizon\n",
      "Latitude =  47 17 11.36\n",
      "Longitude =  -122 10' 39.69\"\n",
      "EnodeB =  001316\n",
      "Latitude =  47.285383 / 47º \" IT ' 7.3768\" \" N\n",
      "Verizon__Satsuma_South__BU_813007.pdf\n",
      "\n",
      "Waiting for Computer Vision Read API to complete text extraction...\n",
      "EnodeB =  127252\n",
      "Latitude =  30.834861 / 30 50' 5.49\" N\n",
      "Longitude =  -88.055278 / 88 3' 19.0\" W\n"
     ]
    }
   ],
   "source": [
    "### The whole shooting match\n",
    "\n",
    "try:\n",
    "    carrier = \"\"\n",
    "    #List all blobs in container\n",
    "    blob_list = container.list_blobs()\n",
    "    for blob in blob_list:\n",
    "        print(blob.name + '\\n')\n",
    "        full_blob = BlobClient.from_connection_string(conn_str=cs, container_name=cn, blob_name=blob.name)\n",
    "        #full_blob_data = full_blob.download_blob()\n",
    "        #extractPDf(full_blob.url)\n",
    "        try:\n",
    "            #Call Read API\n",
    "            cv_response = computervision_client.read(full_blob.url, raw=True)\n",
    "            operation_location = cv_response.headers[\"Operation-Location\"]\n",
    "            operation_id = operation_location.split(\"/\")[-1]\n",
    "            # allow computer vision time to get results\n",
    "            while True:\n",
    "                read_result = computervision_client.get_read_result(operation_id)\n",
    "                if read_result.status.lower() not in ['notstarted', 'running']:\n",
    "                    break\n",
    "                print(\"Waiting for Computer Vision Read API to complete text extraction...\")\n",
    "                time.sleep(20)\n",
    "            #if computer vision successfull start finding key components of output\n",
    "            if (read_result.status.lower() == 'succeeded'):\n",
    "                for r in read_result.analyze_result.read_results:\n",
    "                    for line in r.lines:\n",
    "                        if (\"verizon\" in prev_line and len(carrier) == 0):\n",
    "                            carrier = \"VZW\"\n",
    "                            append_sw = 1\n",
    "                            print(\"Carrier = Verizon\")\n",
    "                        elif (\"latitude\" in prev_line):\n",
    "                            lat = line.text\n",
    "                            append_sw = 1\n",
    "                            print(\"Latitude = \", lat)\n",
    "                        elif (\"longitude\" in prev_line):\n",
    "                            long = line.text\n",
    "                            append_sw = 1\n",
    "                            print(\"Longitude = \", long)\n",
    "                        elif (\"nodeb\" in prev_line):\n",
    "                            enodeb = line.text\n",
    "                            append_sw = 1\n",
    "                            print(\"EnodeB = \", enodeb)\n",
    "                        elif (\"nedeb\" in prev_line):\n",
    "                            enodeb = line.text\n",
    "                            append_sw = 1\n",
    "                            print(\"EnodeB = \", enodeb)\n",
    "                        else:\n",
    "                            prev_line = line.text.lower()\n",
    "\n",
    "                        if (carrier == \"VZW\" and len(lat) > 0 and len(long) > 0 and len(enodeb) and append_sw == 1):\n",
    "                            rfds_df.loc[len(rfds_df.index)] = [carrier, lat, long, enodeb, blob.name, full_blob.url]\n",
    "                            append_sw = 0\n",
    "                            \n",
    "                        prev_line = line.text.lower()\n",
    "        except Exception as e:\n",
    "            print(\"ACV Read API Error: \", e)        \n",
    "except Exception as e:\n",
    "    print(\"Blob listing failed: \", e)\n"
   ]
  }
 ],
 "metadata": {
  "kernelspec": {
   "display_name": "Python 3 (ipykernel)",
   "language": "python",
   "name": "python3"
  },
  "language_info": {
   "codemirror_mode": {
    "name": "ipython",
    "version": 3
   },
   "file_extension": ".py",
   "mimetype": "text/x-python",
   "name": "python",
   "nbconvert_exporter": "python",
   "pygments_lexer": "ipython3",
   "version": "3.9.7"
  }
 },
 "nbformat": 4,
 "nbformat_minor": 5
}
